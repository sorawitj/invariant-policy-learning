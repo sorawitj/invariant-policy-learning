{
 "cells": [
  {
   "cell_type": "code",
   "execution_count": 1,
   "id": "35392374",
   "metadata": {},
   "outputs": [],
   "source": [
    "import sys, os\n",
    "\n",
    "# add invariant test module\n",
    "sys.path.append(os.path.abspath(os.path.join('..', 'invariant_test_utils')))\n",
    "\n",
    "import numpy as np\n",
    "import pandas as pd\n",
    "from warfarin_utils.utils import *\n",
    "import itertools\n",
    "from sklearn import manifold\n",
    "from matplotlib import pyplot as plt\n",
    "from sklearn.cluster import AgglomerativeClustering\n",
    "import seaborn as sns\n",
    "from joblib import Parallel, delayed\n",
    "from sklearn.ensemble import RandomForestRegressor\n",
    "from sklearn.linear_model import LinearRegression\n",
    "from scipy.stats import f_oneway, kruskal, alexandergovern, levene\n",
    "from tqdm.auto import tqdm\n",
    "from warfarin_utils.policy import RandomForestPolicy, LinearPolicy\n",
    "import random\n",
    "from sklearn.model_selection import KFold\n",
    "from warfarin_utils.environment_selection import *\n",
    "from warfarin_utils.model_selection import *\n",
    "from invariant_test import *\n",
    "from sklearn.linear_model import Ridge\n",
    "from sklearn.preprocessing import StandardScaler\n",
    "\n",
    "%load_ext autoreload\n",
    "%autoreload 2"
   ]
  },
  {
   "cell_type": "code",
   "execution_count": 2,
   "id": "eaf86a09",
   "metadata": {},
   "outputs": [],
   "source": [
    "# set all the seeds\n",
    "np.random.seed(0)\n",
    "random.seed(0)"
   ]
  },
  {
   "cell_type": "code",
   "execution_count": 3,
   "id": "06b5181e",
   "metadata": {},
   "outputs": [],
   "source": [
    "DMpolicy = LinearPolicy\n",
    "test_model = LinearRegression()\n",
    "n_clusters = 4\n",
    "# choose the experimental setup with non-invariant proxy or without\n",
    "hidden = True"
   ]
  },
  {
   "cell_type": "code",
   "execution_count": 4,
   "id": "0bd1315a",
   "metadata": {},
   "outputs": [],
   "source": [
    "# load data\n",
    "optimal_dose = np.load('dataset/therapeut_dose.npy')\n",
    "X = np.load('dataset/warfarin_relevant.npy')\n",
    "X_names = np.load('dataset/xnames.npy')\n",
    "race_info = np.load('dataset/race_info.npy')\n",
    "\n",
    "envs = X[:, 0]\n",
    "X = X[:, 1:]\n",
    "X_names = pd.Series(X_names[1:])\n",
    "\n",
    "feature_name = ['Race', 'VKORC1', 'BMI', 'Weight', 'Warfarin Treatment', 'CYP2C9', 'Age', 'Enzyme', 'Cardiomyopathy', \n",
    "                'Simvastatin']\n",
    "\n",
    "feature_idx = {name: X_names[X_names.str.lower().str.contains(np.str.lower(name))].index.to_numpy() for name in feature_name}\n",
    "all_features = np.concatenate(list(feature_idx.values()))\n",
    "\n",
    "X_names = X_names[all_features].reset_index(drop=True)\n",
    "X = X[:, all_features]\n",
    "feature_idx = {name: X_names[X_names.str.lower().str.contains(np.str.lower(name))].index.to_numpy() for name in feature_name}\n",
    "all_features = np.concatenate(list(feature_idx.values()))\n",
    "\n",
    "race_df = pd.DataFrame(pd.unique(race_info), columns=['Race'])"
   ]
  },
  {
   "cell_type": "code",
   "execution_count": 5,
   "id": "0aa6e433",
   "metadata": {
    "scrolled": true
   },
   "outputs": [
    {
     "data": {
      "image/png": "[encoded data removed]",
      "text/plain": [
       "<Figure size 432x288 with 1 Axes>"
      ]
     },
     "metadata": {
      "needs_background": "light"
     },
     "output_type": "display_data"
    }
   ],
   "source": [
    "dissim_matrix, env_idx = find_dis_matrix_race(envs, race_info, race_df)\n",
    "\n",
    "mds = manifold.MDS(n_components=2, max_iter=3000, eps=1e-9, random_state=0,\n",
    "                   dissimilarity=\"precomputed\", n_jobs=1)\n",
    "\n",
    "pos = mds.fit(dissim_matrix).embedding_\n",
    "\n",
    "plt.scatter(pos[:, 0], pos[:, 1], s=100, lw=0, label='MDS')\n",
    "plt.show()"
   ]
  },
  {
   "cell_type": "code",
   "execution_count": 6,
   "id": "68ff581b",
   "metadata": {},
   "outputs": [
    {
     "name": "stderr",
     "output_type": "stream",
     "text": [
      "c:\\users\\soraw\\anaconda3\\envs\\notears\\lib\\site-packages\\scipy\\cluster\\hierarchy.py:834: ClusterWarning: scipy.cluster: The symmetric non-negative hollow observation matrix looks suspiciously like an uncondensed distance matrix\n",
      "  return linkage(y, method='ward', metric='euclidean')\n"
     ]
    },
    {
     "data": {
      "image/png": "[encoded data removed]",
      "text/plain": [
       "<Figure size 432x288 with 1 Axes>"
      ]
     },
     "metadata": {
      "needs_background": "light"
     },
     "output_type": "display_data"
    }
   ],
   "source": [
    "clustering = AgglomerativeClustering(n_clusters=n_clusters).fit(dissim_matrix)\n",
    "\n",
    "cluster_df = pd.DataFrame(data={'X': pos[:, 0], 'Y': pos[:, 1], 'Group':clustering.labels_})\n",
    "\n",
    "sns.scatterplot(data=cluster_df, x='X', y='Y', s=100, hue='Group', palette=\"deep\")\n",
    "plt.show()"
   ]
  },
  {
   "cell_type": "code",
   "execution_count": 7,
   "id": "8c48c647",
   "metadata": {},
   "outputs": [],
   "source": [
    "# create new environments\n",
    "clusters = dict(enumerate(clustering.labels_))\n",
    "new_envs = np.array([clusters[env_idx[e]] for e in envs])"
   ]
  },
  {
   "cell_type": "code",
   "execution_count": 8,
   "id": "6e0f4e25",
   "metadata": {
    "scrolled": true
   },
   "outputs": [
    {
     "data": {
      "image/png": "[encoded data removed]",
      "text/plain": [
       "<Figure size 432x288 with 1 Axes>"
      ]
     },
     "metadata": {
      "needs_background": "light"
     },
     "output_type": "display_data"
    }
   ],
   "source": [
    "dissim_matrix, env_idx = find_dis_matrix_race(new_envs, race_info, race_df)\n",
    "\n",
    "mds = manifold.MDS(n_components=2, max_iter=3000, eps=1e-9, random_state=0,\n",
    "                   dissimilarity=\"precomputed\", n_jobs=1)\n",
    "pos = mds.fit(dissim_matrix).embedding_\n",
    "\n",
    "plt.scatter(pos[:, 0], pos[:, 1], s=100, lw=0, label='MDS')\n",
    "plt.show()"
   ]
  },
  {
   "cell_type": "code",
   "execution_count": 9,
   "id": "17d2c6f6",
   "metadata": {},
   "outputs": [
    {
     "data": {
      "text/plain": [
       "2    1907\n",
       "1    1049\n",
       "0     893\n",
       "3     115\n",
       "dtype: int64"
      ]
     },
     "execution_count": 9,
     "metadata": {},
     "output_type": "execute_result"
    }
   ],
   "source": [
    "pd.Series(new_envs).value_counts()"
   ]
  },
  {
   "cell_type": "code",
   "execution_count": 10,
   "id": "5ec7e02b",
   "metadata": {},
   "outputs": [
    {
     "name": "stdout",
     "output_type": "stream",
     "text": [
      "   White  Unknown  Black or African American   Asian\n",
      "0   1804       37                       65.0     1.0\n",
      "1      0        0                        0.0  1049.0\n",
      "2      0        0                      115.0     0.0\n",
      "3    392      222                      262.0    17.0\n"
     ]
    }
   ],
   "source": [
    "env_race = pd.DataFrame(columns=race_df.Race.values)\n",
    "for e in pd.unique(new_envs):\n",
    "    env_race = env_race.append(pd.Series(race_info[new_envs==e]).value_counts(), ignore_index=True)\n",
    "print(env_race.fillna(0))"
   ]
  },
  {
   "cell_type": "code",
   "execution_count": 11,
   "id": "71a00340",
   "metadata": {},
   "outputs": [],
   "source": [
    "# create all subsets\n",
    "subsets = create_subsets(feature_idx, min_size=5)\n",
    "# set E to be new_envs\n",
    "E = new_envs"
   ]
  },
  {
   "cell_type": "markdown",
   "id": "11e6ec58",
   "metadata": {},
   "source": [
    "# Causal Analysis"
   ]
  },
  {
   "cell_type": "code",
   "execution_count": 12,
   "id": "531d36fd",
   "metadata": {},
   "outputs": [
    {
     "name": "stdout",
     "output_type": "stream",
     "text": [
      "1058.9200984727117\n"
     ]
    }
   ],
   "source": [
    "context = X[:, X_names[X_names.str.contains('BMI')].index.to_numpy()]\n",
    "# generate actions\n",
    "A, init_pi = gen_action_bmi(context, optimal_dose)\n",
    "    \n",
    "Y = get_reward(A, optimal_dose)\n",
    "W = (1/3) / init_pi\n",
    "\n",
    "rs_m = []\n",
    "for i in range(20):\n",
    "    rs_m += [fit_m(A, context, W, n_iter=10)]\n",
    "\n",
    "rs_m = np.mean(rs_m)\n",
    "\n",
    "print(rs_m)\n",
    "rs_rate = rate_fn(pow=1, c=rs_m/X.shape[0])\n",
    "# rs_rate = rate_fn(pow=1, c=1)"
   ]
  },
  {
   "cell_type": "code",
   "execution_count": 13,
   "id": "7fa8d3d1",
   "metadata": {
    "scrolled": true
   },
   "outputs": [
    {
     "data": {
      "application/vnd.jupyter.widget-view+json": {
       "model_id": "9fb282ede5bb49b3a5adfbffe9ccbbb3",
       "version_major": 2,
       "version_minor": 0
      },
      "text/plain": [
       "HBox(children=(HTML(value=''), FloatProgress(value=0.0, max=638.0), HTML(value='')))"
      ]
     },
     "metadata": {},
     "output_type": "display_data"
    },
    {
     "name": "stdout",
     "output_type": "stream",
     "text": [
      "\n"
     ]
    }
   ],
   "source": [
    "subset_pval = Parallel(n_jobs=20)(\n",
    "    delayed(invariance_test_actions_resample)(model=test_model, subset=subset, \n",
    "                                              X=X, A=A, Y=Y, W=W, E=E, \n",
    "                                              rate=rs_rate,n_resample_iter=1)\n",
    "    for subset in tqdm(subsets.items(), position=0, leave=True))\n",
    "\n",
    "subset_pval = dict(subset_pval)\n",
    "subset_pval = pd.Series(index=list(subset_pval.keys()), data=list(subset_pval.values()))"
   ]
  },
  {
   "cell_type": "markdown",
   "id": "4e10ca2d",
   "metadata": {},
   "source": [
    "### Get parents"
   ]
  },
  {
   "cell_type": "code",
   "execution_count": 14,
   "id": "e8f10bdf",
   "metadata": {},
   "outputs": [
    {
     "data": {
      "text/plain": [
       "set()"
      ]
     },
     "execution_count": 14,
     "metadata": {},
     "output_type": "execute_result"
    }
   ],
   "source": [
    "# get intersection of the accepted sets\n",
    "accepted_sets = [set(s) for s in subset_pval[subset_pval > 0.1].index.str.split(\"+\")]\n",
    "parents = set.intersection(*accepted_sets)\n",
    "parents"
   ]
  },
  {
   "cell_type": "markdown",
   "id": "4a891485",
   "metadata": {},
   "source": [
    "### Get defining sets"
   ]
  },
  {
   "cell_type": "code",
   "execution_count": 15,
   "id": "6c340464",
   "metadata": {},
   "outputs": [],
   "source": [
    "def is_defining_set(candidate_s, accepted_sets):\n",
    "    return np.all([len(s.intersection(candidate_s)) > 0 for s in accepted_sets])"
   ]
  },
  {
   "cell_type": "code",
   "execution_count": 16,
   "id": "98783120",
   "metadata": {},
   "outputs": [
    {
     "data": {
      "text/plain": [
       "False"
      ]
     },
     "execution_count": 16,
     "metadata": {},
     "output_type": "execute_result"
    }
   ],
   "source": [
    "# sanity check\n",
    "is_defining_set(parents, accepted_sets) == True"
   ]
  },
  {
   "cell_type": "code",
   "execution_count": 17,
   "id": "07e4dc67",
   "metadata": {},
   "outputs": [],
   "source": [
    "def prop_set(candidate_s, accepted_sets):\n",
    "    return np.mean([len(s.intersection(candidate_s)) > 0 for s in accepted_sets])"
   ]
  },
  {
   "cell_type": "code",
   "execution_count": 18,
   "id": "38c040a1",
   "metadata": {},
   "outputs": [
    {
     "data": {
      "text/plain": [
       "Race                  0.794189\n",
       "VKORC1                0.658596\n",
       "Age                   0.607748\n",
       "Warfarin Treatment    0.605327\n",
       "Enzyme                0.593220\n",
       "CYP2C9                0.588378\n",
       "BMI                   0.578692\n",
       "Simvastatin           0.576271\n",
       "Cardiomyopathy        0.569007\n",
       "Weight                0.566586\n",
       "dtype: float64"
      ]
     },
     "execution_count": 18,
     "metadata": {},
     "output_type": "execute_result"
    }
   ],
   "source": [
    "all_set = set.union(*accepted_sets)\n",
    "\n",
    "prop_sets = pd.Series({s: prop_set(set([s]), accepted_sets) for s in all_set})\n",
    "prop_sets.sort_values(ascending=False)"
   ]
  },
  {
   "cell_type": "code",
   "execution_count": 19,
   "id": "49464805",
   "metadata": {
    "scrolled": true
   },
   "outputs": [
    {
     "data": {
      "text/plain": [
       "[{'Race', 'VKORC1'}]"
      ]
     },
     "execution_count": 19,
     "metadata": {},
     "output_type": "execute_result"
    }
   ],
   "source": [
    "# take all pairs as candidates\n",
    "all_pairs = [set(s) for s in itertools.combinations(set.union(*accepted_sets), 2)]\n",
    "# check whether each pair is a defining set\n",
    "[pair for pair in all_pairs if is_defining_set(pair, accepted_sets)]"
   ]
  },
  {
   "cell_type": "markdown",
   "id": "99f8d7bf",
   "metadata": {},
   "source": [
    "## Construct hidden variables"
   ]
  },
  {
   "cell_type": "code",
   "execution_count": 20,
   "id": "229dc22b",
   "metadata": {},
   "outputs": [],
   "source": [
    "def get_proxy(f_idx, X, optimal_dose, E, e_params=None, noise_std=0.0):\n",
    "    # fit regression to get coefs\n",
    "    lr = LinearRegression()\n",
    "    lr.fit(X, optimal_dose)\n",
    "    coefs = lr.coef_[f_idx]\n",
    "    \n",
    "    # make dependence between coefs and E\n",
    "    if e_params is None:\n",
    "        e_params = np.random.uniform(-1, 1, size=(len(pd.unique(E),)))\n",
    "    coefs = coefs[:, np.newaxis] * e_params[E]\n",
    "    proxy = np.einsum('ij,ji->i', X[:, f_idx], coefs) + np.random.normal(size=X.shape[0]) * noise_std\n",
    "    \n",
    "    return proxy"
   ]
  },
  {
   "cell_type": "code",
   "execution_count": 21,
   "id": "7d6f7399",
   "metadata": {},
   "outputs": [],
   "source": [
    "if hidden:\n",
    "    hidden_variables = ['CYP2C9', 'VKORC1']\n",
    "\n",
    "    hidden_idx = np.concatenate([feature_idx[h] for h in hidden_variables])\n",
    "    e_params = np.array([-2, 2,  3, -4])\n",
    "    proxy = get_proxy(hidden_idx, X, optimal_dose, E, e_params=e_params)\n",
    "    new_X = np.hstack([X, proxy[:, np.newaxis]])\n",
    "    new_X_names = X_names.append(pd.Series({X_names.shape[0]:'Proxy'}))\n",
    "    new_feature_idx = feature_idx.copy()\n",
    "    for h in hidden_variables:\n",
    "        new_feature_idx.pop(h)\n",
    "\n",
    "    new_feature_idx['Proxy'] = np.array([new_X.shape[1] - 1])\n",
    "else:\n",
    "    new_X = X\n",
    "    new_X_names = X_names\n",
    "    new_feature_idx = feature_idx.copy()"
   ]
  },
  {
   "cell_type": "code",
   "execution_count": 22,
   "id": "d53de5ed",
   "metadata": {},
   "outputs": [],
   "source": [
    "# recreate all subsets\n",
    "subsets = create_subsets(new_feature_idx, min_size=5)\n",
    "all_features = np.concatenate(list(new_feature_idx.values()))"
   ]
  },
  {
   "cell_type": "markdown",
   "id": "c2c19125",
   "metadata": {},
   "source": [
    "# Generalization Analysis"
   ]
  },
  {
   "cell_type": "code",
   "execution_count": 23,
   "id": "51f0165c",
   "metadata": {},
   "outputs": [],
   "source": [
    "X = new_X\n",
    "context = new_X[:, new_X_names[new_X_names.str.contains('BMI') | new_X_names.str.contains('Proxy')].index.to_numpy()]\n",
    "\n",
    "# generate actions\n",
    "A, init_pi = gen_action_bmi(context, optimal_dose)\n",
    "    \n",
    "Y = get_reward(A, optimal_dose)\n",
    "W = (1/3) / init_pi"
   ]
  },
  {
   "cell_type": "code",
   "execution_count": 24,
   "id": "f7f535da",
   "metadata": {},
   "outputs": [
    {
     "name": "stdout",
     "output_type": "stream",
     "text": [
      "2033.9815187085144\n"
     ]
    }
   ],
   "source": [
    "rs_m = []\n",
    "for i in range(20):\n",
    "    rs_m += [fit_m(A, context, W, n_iter=10)]\n",
    "\n",
    "rs_m = np.mean(rs_m)\n",
    "\n",
    "print(rs_m)\n",
    "rs_rate = rate_fn(pow=1, c=rs_m/X.shape[0])"
   ]
  },
  {
   "cell_type": "code",
   "execution_count": 25,
   "id": "affc801a",
   "metadata": {},
   "outputs": [
    {
     "data": {
      "application/vnd.jupyter.widget-view+json": {
       "model_id": "62d4b5b3d8b7425bb1e12235eadb61be",
       "version_major": 2,
       "version_minor": 0
      },
      "text/plain": [
       "HBox(children=(HTML(value=''), FloatProgress(value=0.0, max=256.0), HTML(value='')))"
      ]
     },
     "metadata": {},
     "output_type": "display_data"
    },
    {
     "name": "stdout",
     "output_type": "stream",
     "text": [
      "\n"
     ]
    },
    {
     "data": {
      "application/vnd.jupyter.widget-view+json": {
       "model_id": "f9bea49c48eb4118ac4ea478de14acfa",
       "version_major": 2,
       "version_minor": 0
      },
      "text/plain": [
       "HBox(children=(HTML(value=''), FloatProgress(value=0.0, max=256.0), HTML(value='')))"
      ]
     },
     "metadata": {},
     "output_type": "display_data"
    },
    {
     "name": "stdout",
     "output_type": "stream",
     "text": [
      "\n"
     ]
    },
    {
     "data": {
      "application/vnd.jupyter.widget-view+json": {
       "model_id": "c7b0296043e64b83808097695168ca33",
       "version_major": 2,
       "version_minor": 0
      },
      "text/plain": [
       "HBox(children=(HTML(value=''), FloatProgress(value=0.0, max=256.0), HTML(value='')))"
      ]
     },
     "metadata": {},
     "output_type": "display_data"
    },
    {
     "name": "stdout",
     "output_type": "stream",
     "text": [
      "\n"
     ]
    },
    {
     "data": {
      "application/vnd.jupyter.widget-view+json": {
       "model_id": "3afbba748d7d4896a3a2cc28349ee957",
       "version_major": 2,
       "version_minor": 0
      },
      "text/plain": [
       "HBox(children=(HTML(value=''), FloatProgress(value=0.0, max=256.0), HTML(value='')))"
      ]
     },
     "metadata": {},
     "output_type": "display_data"
    },
    {
     "name": "stdout",
     "output_type": "stream",
     "text": [
      "\n"
     ]
    }
   ],
   "source": [
    "subset_pval_E = {}\n",
    "for e in pd.unique(E):\n",
    "    X_e, A_e, Y_e, W_e, E_e = new_X[E != e], A[E != e], Y[E != e], W[E != e], E[E != e]\n",
    "    subset_pval = Parallel(n_jobs=20)(\n",
    "        delayed(invariance_test_actions_resample)(model=test_model, subset=subset, \n",
    "                                                  X=X_e, A=A_e, Y=Y_e, W=W_e, E=E_e, \n",
    "                                                  rate=rs_rate,n_resample_iter=3)\n",
    "        for subset in tqdm(subsets.items(), position=0, leave=True))\n",
    "\n",
    "    subset_pval = dict(subset_pval)\n",
    "    subset_pval_E[e] = pd.Series(index=list(subset_pval.keys()), data=list(subset_pval.values()))"
   ]
  },
  {
   "cell_type": "code",
   "execution_count": 26,
   "id": "241f160f",
   "metadata": {
    "scrolled": true
   },
   "outputs": [
    {
     "data": {
      "application/vnd.jupyter.widget-view+json": {
       "model_id": "36f558697c7f42eaa35b4f67c2f8277c",
       "version_major": 2,
       "version_minor": 0
      },
      "text/plain": [
       "HBox(children=(HTML(value=''), FloatProgress(value=0.0, max=20.0), HTML(value='')))"
      ]
     },
     "metadata": {},
     "output_type": "display_data"
    },
    {
     "name": "stdout",
     "output_type": "stream",
     "text": [
      "\n"
     ]
    },
    {
     "data": {
      "application/vnd.jupyter.widget-view+json": {
       "model_id": "93d5715fa3244a8ea7f75ce59e47e2e4",
       "version_major": 2,
       "version_minor": 0
      },
      "text/plain": [
       "HBox(children=(HTML(value=''), FloatProgress(value=0.0, max=93.0), HTML(value='')))"
      ]
     },
     "metadata": {},
     "output_type": "display_data"
    },
    {
     "name": "stdout",
     "output_type": "stream",
     "text": [
      "\n"
     ]
    },
    {
     "data": {
      "application/vnd.jupyter.widget-view+json": {
       "model_id": "b7a03aafc71144158838ed29eece0634",
       "version_major": 2,
       "version_minor": 0
      },
      "text/plain": [
       "HBox(children=(HTML(value=''), FloatProgress(value=0.0, max=256.0), HTML(value='')))"
      ]
     },
     "metadata": {},
     "output_type": "display_data"
    },
    {
     "name": "stdout",
     "output_type": "stream",
     "text": [
      "\n"
     ]
    },
    {
     "data": {
      "application/vnd.jupyter.widget-view+json": {
       "model_id": "f753a728e90840babeaf66d058c6ebfc",
       "version_major": 2,
       "version_minor": 0
      },
      "text/plain": [
       "HBox(children=(HTML(value=''), FloatProgress(value=0.0, max=20.0), HTML(value='')))"
      ]
     },
     "metadata": {},
     "output_type": "display_data"
    },
    {
     "name": "stdout",
     "output_type": "stream",
     "text": [
      "\n"
     ]
    },
    {
     "data": {
      "application/vnd.jupyter.widget-view+json": {
       "model_id": "05e181c30de14d949472ac4031e875b0",
       "version_major": 2,
       "version_minor": 0
      },
      "text/plain": [
       "HBox(children=(HTML(value=''), FloatProgress(value=0.0, max=93.0), HTML(value='')))"
      ]
     },
     "metadata": {},
     "output_type": "display_data"
    },
    {
     "name": "stdout",
     "output_type": "stream",
     "text": [
      "\n"
     ]
    },
    {
     "data": {
      "application/vnd.jupyter.widget-view+json": {
       "model_id": "c60e0dbf30a44704a8d339623d3669ea",
       "version_major": 2,
       "version_minor": 0
      },
      "text/plain": [
       "HBox(children=(HTML(value=''), FloatProgress(value=0.0, max=256.0), HTML(value='')))"
      ]
     },
     "metadata": {},
     "output_type": "display_data"
    },
    {
     "name": "stdout",
     "output_type": "stream",
     "text": [
      "\n"
     ]
    },
    {
     "data": {
      "application/vnd.jupyter.widget-view+json": {
       "model_id": "804697c9cd194b16aeda2526e04913a7",
       "version_major": 2,
       "version_minor": 0
      },
      "text/plain": [
       "HBox(children=(HTML(value=''), FloatProgress(value=0.0, max=20.0), HTML(value='')))"
      ]
     },
     "metadata": {},
     "output_type": "display_data"
    },
    {
     "name": "stdout",
     "output_type": "stream",
     "text": [
      "\n"
     ]
    },
    {
     "data": {
      "application/vnd.jupyter.widget-view+json": {
       "model_id": "5c8421083e254348845ab61212f98eb2",
       "version_major": 2,
       "version_minor": 0
      },
      "text/plain": [
       "HBox(children=(HTML(value=''), FloatProgress(value=0.0, max=93.0), HTML(value='')))"
      ]
     },
     "metadata": {},
     "output_type": "display_data"
    },
    {
     "name": "stdout",
     "output_type": "stream",
     "text": [
      "\n"
     ]
    },
    {
     "data": {
      "application/vnd.jupyter.widget-view+json": {
       "model_id": "7595ef5fabe345d0a9a1fece492c1d46",
       "version_major": 2,
       "version_minor": 0
      },
      "text/plain": [
       "HBox(children=(HTML(value=''), FloatProgress(value=0.0, max=256.0), HTML(value='')))"
      ]
     },
     "metadata": {},
     "output_type": "display_data"
    },
    {
     "name": "stdout",
     "output_type": "stream",
     "text": [
      "\n"
     ]
    },
    {
     "data": {
      "application/vnd.jupyter.widget-view+json": {
       "model_id": "62614997d9a543f381d24c43224ce963",
       "version_major": 2,
       "version_minor": 0
      },
      "text/plain": [
       "HBox(children=(HTML(value=''), FloatProgress(value=0.0, max=20.0), HTML(value='')))"
      ]
     },
     "metadata": {},
     "output_type": "display_data"
    },
    {
     "name": "stdout",
     "output_type": "stream",
     "text": [
      "\n"
     ]
    },
    {
     "data": {
      "application/vnd.jupyter.widget-view+json": {
       "model_id": "3b25f6234ef14697bbaf340d3c2645d0",
       "version_major": 2,
       "version_minor": 0
      },
      "text/plain": [
       "HBox(children=(HTML(value=''), FloatProgress(value=0.0, max=93.0), HTML(value='')))"
      ]
     },
     "metadata": {},
     "output_type": "display_data"
    },
    {
     "name": "stdout",
     "output_type": "stream",
     "text": [
      "\n"
     ]
    },
    {
     "data": {
      "application/vnd.jupyter.widget-view+json": {
       "model_id": "60ee05c911a4424eb9aa520067757ea1",
       "version_major": 2,
       "version_minor": 0
      },
      "text/plain": [
       "HBox(children=(HTML(value=''), FloatProgress(value=0.0, max=256.0), HTML(value='')))"
      ]
     },
     "metadata": {},
     "output_type": "display_data"
    },
    {
     "name": "stdout",
     "output_type": "stream",
     "text": [
      "\n"
     ]
    }
   ],
   "source": [
    "best_inv_set_E = {}\n",
    "best_oracle_set_E = {}\n",
    "most_predictive_E = {}\n",
    "predictive_E = {}\n",
    "\n",
    "oracle_candidates = {k:v for k,v in subsets.items() if 'Proxy' not in k}\n",
    "for e in pd.unique(E):\n",
    "    X_e, A_e, Y_e, init_pi_e = X[E != e], A[E != e], Y[E != e], init_pi[E != e]\n",
    "    top_inv_sets = subset_pval_E[e].sort_values(ascending=False).iloc[:20].to_dict()\n",
    "    \n",
    "    top_inv_rewards = find_opitmal_set(X_e, A_e, Y_e, init_pi_e, \n",
    "                                       DMpolicy=DMpolicy,\n",
    "                                       candidate_subsets=top_inv_sets,\n",
    "                                       subsets=subsets)\n",
    "    \n",
    "    top_oracle_rewards = find_opitmal_set(X_e, A_e, Y_e, init_pi_e, \n",
    "                                       DMpolicy=DMpolicy,\n",
    "                                       candidate_subsets=oracle_candidates,\n",
    "                                       subsets=subsets)\n",
    "    \n",
    "    most_predictive = find_opitmal_set(X_e, A_e, Y_e, init_pi_e, \n",
    "                                       DMpolicy=DMpolicy,\n",
    "                                       candidate_subsets=subsets,\n",
    "                                       subsets=subsets)\n",
    "    \n",
    "    best_inv_set_E[e] = top_inv_rewards.sort_values(ascending=False)[:3]\n",
    "    best_oracle_set_E[e] = top_oracle_rewards.sort_values(ascending=False)[:3]\n",
    "    most_predictive_E[e] = most_predictive.sort_values(ascending=False)[:3]\n",
    "    predictive_E[e] = most_predictive"
   ]
  },
  {
   "cell_type": "code",
   "execution_count": 27,
   "id": "dbb60bde",
   "metadata": {
    "scrolled": false
   },
   "outputs": [
    {
     "data": {
      "application/vnd.jupyter.widget-view+json": {
       "model_id": "53839f8f1dda45a19fb76ffe838e2892",
       "version_major": 2,
       "version_minor": 0
      },
      "text/plain": [
       "HBox(children=(HTML(value=''), FloatProgress(value=0.0, max=10.0), HTML(value='')))"
      ]
     },
     "metadata": {},
     "output_type": "display_data"
    },
    {
     "name": "stdout",
     "output_type": "stream",
     "text": [
      "\n"
     ]
    },
    {
     "data": {
      "application/vnd.jupyter.widget-view+json": {
       "model_id": "a3a0c485d18a400bbe6323164d2e380f",
       "version_major": 2,
       "version_minor": 0
      },
      "text/plain": [
       "HBox(children=(HTML(value=''), FloatProgress(value=0.0, max=10.0), HTML(value='')))"
      ]
     },
     "metadata": {},
     "output_type": "display_data"
    },
    {
     "name": "stdout",
     "output_type": "stream",
     "text": [
      "\n"
     ]
    },
    {
     "data": {
      "application/vnd.jupyter.widget-view+json": {
       "model_id": "07cce26f962942fba16fcf3228ccf566",
       "version_major": 2,
       "version_minor": 0
      },
      "text/plain": [
       "HBox(children=(HTML(value=''), FloatProgress(value=0.0, max=10.0), HTML(value='')))"
      ]
     },
     "metadata": {},
     "output_type": "display_data"
    },
    {
     "name": "stdout",
     "output_type": "stream",
     "text": [
      "\n"
     ]
    },
    {
     "data": {
      "application/vnd.jupyter.widget-view+json": {
       "model_id": "48e44efba3a442ea8ef69241a226f193",
       "version_major": 2,
       "version_minor": 0
      },
      "text/plain": [
       "HBox(children=(HTML(value=''), FloatProgress(value=0.0, max=10.0), HTML(value='')))"
      ]
     },
     "metadata": {},
     "output_type": "display_data"
    },
    {
     "name": "stdout",
     "output_type": "stream",
     "text": [
      "\n"
     ]
    },
    {
     "data": {
      "image/png": "[encoded data removed]",
      "text/plain": [
       "<Figure size 432x288 with 1 Axes>"
      ]
     },
     "metadata": {
      "needs_background": "light"
     },
     "output_type": "display_data"
    }
   ],
   "source": [
    "best_inv_can = [k for k in subsets.keys() if (len(k.split('+')) == (len(new_feature_idx) - 1)) and (not 'Proxy' in k)]\n",
    "candidate_subsets_E = {}\n",
    "for e in pd.unique(E):\n",
    "    inv_candidates = {'Inv_'+k:subsets[k] for k in best_inv_set_E[e].keys()}\n",
    "    best_inv_candidates = {'Oracle-Inv_'+k:subsets[k] for k in best_oracle_set_E[e].keys()}\n",
    "    predictive_candidates = {'Pred_'+k:subsets[k] for k in most_predictive_E[e].keys()}\n",
    "    \n",
    "    # combine dict\n",
    "    if hidden:\n",
    "        candidate_subsets_E[e] = {**inv_candidates, **predictive_candidates, **best_inv_candidates,\n",
    "                                  **{'All_'+list(subsets.keys())[-1]:subsets[list(subsets.keys())[-1]]}}\n",
    "    else:\n",
    "        candidate_subsets_E[e] = {**inv_candidates, **predictive_candidates, **{'All_'+list(subsets.keys())[-1]:subsets[list(subsets.keys())[-1]]}}\n",
    "    \n",
    "reward_df = get_test_rewards_E(X, A, Y, E, \n",
    "                               optimal_dose,\n",
    "                               init_pi, \n",
    "                               DMpolicy=DMpolicy, \n",
    "                               candidate_subsets=candidate_subsets_E)\n",
    "\n",
    "# reindex test envs\n",
    "reward_df['test_env'] += 1\n",
    "\n",
    "reward_df['subset_type'] = reward_df.subset.str.split(\"_\").map(lambda x: x[0])\n",
    "\n",
    "plt.figure(figsize=(6,4))\n",
    "ax = sns.boxplot(data=reward_df, x='subset_type', y='reward', whis=2, showmeans=True,\n",
    "            meanprops={\"marker\":\"s\",\"markerfacecolor\":\"white\", \"markeredgecolor\":\"blue\", \"markersize\":8})\n",
    "\n",
    "ax.set_xticklabels(ax.get_xticks(), size = 14)\n",
    "\n",
    "for patch in ax.artists:\n",
    "    r, g, b, a = patch.get_facecolor()\n",
    "    patch.set_facecolor((r, g, b, .6))\n",
    "\n",
    "ax = sns.swarmplot(data=reward_df, x='subset_type', y='reward', hue='test_env', \n",
    "                   size=8, linewidth=0.5)\n",
    "ax.legend_.remove()\n",
    "\n",
    "# Put the legend out of the figure\n",
    "plt.legend(loc='upper center', bbox_to_anchor=(0.5, 1.15),\n",
    "          ncol=4, fancybox=True, title='Test Environment', framealpha=1.)\n",
    "plt.xlabel(\"\", size=14)\n",
    "plt.ylabel(\"Expected Reward\", size=14)\n",
    "plt.tight_layout()\n",
    "plt.savefig('results/warfarin_hidden_{}.pdf'.format(hidden))\n"
   ]
  },
  {
   "cell_type": "markdown",
   "id": "d17cf1c4",
   "metadata": {},
   "source": [
    "# Correlation Between P-value and Generalization"
   ]
  },
  {
   "cell_type": "code",
   "execution_count": 28,
   "id": "98dc5f94",
   "metadata": {},
   "outputs": [
    {
     "data": {
      "application/vnd.jupyter.widget-view+json": {
       "model_id": "005b7f18322849d29c35614440a0f28e",
       "version_major": 2,
       "version_minor": 0
      },
      "text/plain": [
       "HBox(children=(HTML(value=''), FloatProgress(value=0.0, max=256.0), HTML(value='')))"
      ]
     },
     "metadata": {},
     "output_type": "display_data"
    },
    {
     "name": "stdout",
     "output_type": "stream",
     "text": [
      "\n"
     ]
    },
    {
     "data": {
      "application/vnd.jupyter.widget-view+json": {
       "model_id": "71fec6dfaf6f43609d1e39171bcfd568",
       "version_major": 2,
       "version_minor": 0
      },
      "text/plain": [
       "HBox(children=(HTML(value=''), FloatProgress(value=0.0, max=256.0), HTML(value='')))"
      ]
     },
     "metadata": {},
     "output_type": "display_data"
    },
    {
     "name": "stdout",
     "output_type": "stream",
     "text": [
      "\n"
     ]
    },
    {
     "data": {
      "application/vnd.jupyter.widget-view+json": {
       "model_id": "b72afeb11a5842da8d17031853f4df42",
       "version_major": 2,
       "version_minor": 0
      },
      "text/plain": [
       "HBox(children=(HTML(value=''), FloatProgress(value=0.0, max=256.0), HTML(value='')))"
      ]
     },
     "metadata": {},
     "output_type": "display_data"
    },
    {
     "name": "stdout",
     "output_type": "stream",
     "text": [
      "\n"
     ]
    },
    {
     "data": {
      "application/vnd.jupyter.widget-view+json": {
       "model_id": "5e91d9fde99e4e259c97efa16daa9b9a",
       "version_major": 2,
       "version_minor": 0
      },
      "text/plain": [
       "HBox(children=(HTML(value=''), FloatProgress(value=0.0, max=256.0), HTML(value='')))"
      ]
     },
     "metadata": {},
     "output_type": "display_data"
    },
    {
     "name": "stdout",
     "output_type": "stream",
     "text": [
      "\n"
     ]
    }
   ],
   "source": [
    "reward_df_all = get_test_rewards(X, A, Y, E, \n",
    "                                 optimal_dose,\n",
    "                                 init_pi, \n",
    "                                 DMpolicy=DMpolicy, \n",
    "                                 candidate_subsets=subsets)"
   ]
  },
  {
   "cell_type": "code",
   "execution_count": 89,
   "id": "18304892",
   "metadata": {},
   "outputs": [],
   "source": [
    "pval_df = pd.DataFrame(columns=['subset', 'p-value', 'predictiveness'])\n",
    "for e in pd.unique(E):\n",
    "    pval_df_e = pd.DataFrame(subset_pval_E[e], columns=['p-value']).reset_index().rename(columns={\"index\":\"subset\"})\n",
    "    predictive_df_e = pd.DataFrame(predictive_E[e], columns=['Predictiveness']).reset_index().rename(columns={\"index\":\"subset\"})\n",
    "    predictive_df_e['Predictiveness'] = pd.cut(predictive_df_e['Predictiveness'], bins=4, labels=[1, 2, 3, 4])\n",
    "    final_df_e = pval_df_e.merge(predictive_df_e, on='subset')\n",
    "    final_df_e['test_env'] = int(e)\n",
    "    pval_df = pval_df.append(final_df_e, ignore_index=True)\n",
    "\n",
    "pval_df['Log P-value'] = np.log(pval_df['p-value'])\n",
    "reward_pval_df = reward_df_all.merge(pval_df, on=['subset', 'test_env'])\n",
    "reward_pval_df = reward_pval_df.rename(columns={'test_env':'Test Environment', 'reward': 'Expected Reward'})\n",
    "reward_pval_df['Test Environment'] += 1"
   ]
  },
  {
   "cell_type": "code",
   "execution_count": 167,
   "id": "f97a7a82",
   "metadata": {},
   "outputs": [
    {
     "data": {
      "image/png": "[encoded data removed]",
      "text/plain": [
       "<Figure size 583.95x316.8 with 4 Axes>"
      ]
     },
     "metadata": {
      "needs_background": "light"
     },
     "output_type": "display_data"
    }
   ],
   "source": [
    "g = sns.relplot(\n",
    "    data=reward_pval_df, x=\"Log P-value\", y=\"Expected Reward\",\n",
    "    col=\"Test Environment\", col_wrap= 2, hue=\"Predictiveness\",\n",
    "    kind=\"scatter\", s=40, alpha=0.6, facet_kws={'sharey': False, 'sharex': False},\n",
    "    height=2.2, aspect=1.5\n",
    ")\n",
    "c = g._legend.get_children()[0].get_children()[1].get_children()[0]\n",
    "c._children = c._children[1:]\n",
    "g._legend.set_title(\"Predictiveness\")\n",
    "plt.savefig('results/p-value_analysis.pdf')"
   ]
  }
 ],
 "metadata": {
  "kernelspec": {
   "display_name": "Python 3",
   "language": "python",
   "name": "python3"
  },
  "language_info": {
   "codemirror_mode": {
    "name": "ipython",
    "version": 3
   },
   "file_extension": ".py",
   "mimetype": "text/x-python",
   "name": "python",
   "nbconvert_exporter": "python",
   "pygments_lexer": "ipython3",
   "version": "3.8.3"
  }
 },
 "nbformat": 4,
 "nbformat_minor": 5
}
